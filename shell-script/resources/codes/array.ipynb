{
 "cells": [
  {
   "cell_type": "code",
   "execution_count": 1,
   "id": "392e6345",
   "metadata": {},
   "outputs": [
    {
     "name": "stdout",
     "output_type": "stream",
     "text": [
      "Hello world\n"
     ]
    }
   ],
   "source": [
    "%%bash\n",
    "echo \"Hello world\""
   ]
  },
  {
   "cell_type": "code",
   "execution_count": 2,
   "id": "130be00c",
   "metadata": {},
   "outputs": [
    {
     "name": "stdout",
     "output_type": "stream",
     "text": [
      "20\n"
     ]
    }
   ],
   "source": [
    "%%bash\n",
    "declare -a myarr\n",
    "myarr=(10 20 30)\n",
    "echo ${myarr[1]}"
   ]
  },
  {
   "cell_type": "code",
   "execution_count": 10,
   "id": "03a862f6",
   "metadata": {},
   "outputs": [
    {
     "name": "stdout",
     "output_type": "stream",
     "text": [
      "declare -a mysecondarr=([0]=\"-10\" [1]=\"35\" [2]=\"30\" [3]=\"dipta\" [4]=\"3.1416\")\n",
      "declare -A a2=([bob]=\"91\" [markee]=\"8\" [oggy]=\"50\" [joey]=\"13\" [jack]=\"75\" )\n"
     ]
    }
   ],
   "source": [
    "%%bash\n",
    "declare -a mysecondarr\n",
    "mysecondarr=(-10 35 30 \"dipta\" 3.1416)\n",
    "declare -p mysecondarr\n",
    "\n",
    "declare -A a2\n",
    "a2=(\n",
    "    [\"oggy\"]=50\n",
    "    [\"jack\"]=75\n",
    "    [\"joey\"]=13\n",
    "    [\"markee\"]=8\n",
    "    [\"bob\"]=91\n",
    ")\n",
    "declare -p a2"
   ]
  },
  {
   "cell_type": "code",
   "execution_count": 23,
   "id": "fc066167",
   "metadata": {},
   "outputs": [
    {
     "name": "stdout",
     "output_type": "stream",
     "text": [
      "Welcome To Javatpoint\n",
      "Welcome\n",
      "To\n",
      "Javatpoint\n"
     ]
    }
   ],
   "source": [
    "%%bash\n",
    "#printing all elements by using @ and *\n",
    "declare -a ex=(\"Welcome\" \"To\" \"Javatpoint\")  \n",
    "  \n",
    "#Printing all the elements  \n",
    "#must be surrounded with double quotes while using @\n",
    "echo \"${ex[@]}\"\n",
    "\n",
    "for i in \"${ex[@]}\"\n",
    "do\n",
    "    echo $i\n",
    "done"
   ]
  },
  {
   "cell_type": "code",
   "execution_count": 22,
   "id": "5f77ced6",
   "metadata": {},
   "outputs": [
    {
     "name": "stdout",
     "output_type": "stream",
     "text": [
      "Welcome To Javatpoint\n",
      "Welcome To Javatpoint\n"
     ]
    }
   ],
   "source": [
    "%%bash\n",
    "# a single result will be produced holding all the elements of the array as a single word\n",
    "declare -a ex=(\"Welcome\" \"To\" \"Javatpoint\")  \n",
    "  \n",
    "#Printing all the elements  \n",
    "echo ${ex[*]}\n",
    "\n",
    "# \"${ex[*]}\" -> single line, ${ex[*]} -> 3 lines\n",
    "for i in \"${ex[*]}\"\n",
    "do\n",
    "    echo $i\n",
    "done"
   ]
  },
  {
   "cell_type": "code",
   "execution_count": 25,
   "id": "f2c0a616",
   "metadata": {},
   "outputs": [
    {
     "name": "stdout",
     "output_type": "stream",
     "text": [
      "bob markee oggy joey jack\n"
     ]
    }
   ],
   "source": [
    "%%bash\n",
    "declare -a ex=(\"Welcome\" \"To\" \"Javatpoint\")  \n",
    "\n",
    "declare -A a2\n",
    "a2=(\n",
    "    [\"oggy\"]=50\n",
    "    [\"jack\"]=75\n",
    "    [\"joey\"]=13\n",
    "    [\"markee\"]=8\n",
    "    [\"bob\"]=91\n",
    ")\n",
    "\n",
    "#Printing the Keys  \n",
    "echo \"${!a2[@]}\"  "
   ]
  },
  {
   "cell_type": "code",
   "execution_count": 26,
   "id": "5ff1e3f1",
   "metadata": {},
   "outputs": [
    {
     "name": "stdout",
     "output_type": "stream",
     "text": [
      "The array contains 3 elements\n"
     ]
    }
   ],
   "source": [
    "%%bash\n",
    "#Printing Array Length  \n",
    "declare -a ex=(\"Welcome\" \"To\" \"Javatpoint\")  \n",
    "echo \"The array contains ${#ex[@]} elements\"  "
   ]
  },
  {
   "cell_type": "code",
   "execution_count": 27,
   "id": "cac438be",
   "metadata": {},
   "outputs": [
    {
     "name": "stdout",
     "output_type": "stream",
     "text": [
      "The key of element 91 is bob\n",
      "The key of element 8 is markee\n",
      "The key of element 50 is oggy\n",
      "The key of element 13 is joey\n",
      "The key of element 75 is jack\n"
     ]
    }
   ],
   "source": [
    "%%bash\n",
    "#Array Loop  \n",
    "declare -A oggy\n",
    "oggy=(\n",
    "    [\"oggy\"]=50\n",
    "    [\"jack\"]=75\n",
    "    [\"joey\"]=13\n",
    "    [\"markee\"]=8\n",
    "    [\"bob\"]=91\n",
    ")\n",
    "for i in \"${!oggy[@]}\"  \n",
    "do  \n",
    "echo The key of element \"${oggy[$i]}\" is \"$i\"  \n",
    "done "
   ]
  },
  {
   "cell_type": "code",
   "execution_count": 34,
   "id": "d47ce6ea",
   "metadata": {},
   "outputs": [
    {
     "name": "stdout",
     "output_type": "stream",
     "text": [
      "0 : Welcome\n",
      "1 : To\n",
      "2 : Javatpoint\n"
     ]
    }
   ],
   "source": [
    "%%bash\n",
    "#Script to loop through an array in C-style  \n",
    "  \n",
    "declare -a ex=(\"Welcome\" \"To\" \"Javatpoint\")  \n",
    "  \n",
    "#Length of the Array  \n",
    "length=${#ex[@]}  \n",
    "\n",
    "#Array Loop  \n",
    "for (( i=0; i < ${length}; i++ ))  \n",
    "do   \n",
    "echo \"$i : ${ex[$i]}\"\n",
    "done"
   ]
  },
  {
   "cell_type": "code",
   "execution_count": 43,
   "id": "69cea443",
   "metadata": {},
   "outputs": [
    {
     "name": "stdout",
     "output_type": "stream",
     "text": [
      "Python\n",
      "PHP\n",
      "HTML\n",
      "0 2 3 4 5 6\n",
      "\n"
     ]
    }
   ],
   "source": [
    "%%bash\n",
    "declare -a ex=(\"Java\" \"Python\" \"PHP\" \"HTML\")  \n",
    "  \n",
    "#Adding new element / multiple elements\n",
    "ex[4]=\"JavaScript\" \n",
    "ex+=(CSS SQL)\n",
    "\n",
    "#Slicing the Array [inclusive] \n",
    "sliced=(\"${ex[@]:1:3}\")  \n",
    "  \n",
    "#Applying for loop to iterate over each element in Array  \n",
    "for i in \"${sliced[@]}\"  \n",
    "do  \n",
    "echo $i  \n",
    "done\n",
    "\n",
    "#updating\n",
    "ex[2]=\"NodeJS\"\n",
    "\n",
    "#Removing the element  \n",
    "unset ex[1]\n",
    "echo ${!ex[@]}   # index 1 is missing\n",
    "\n",
    "#Deleting Entire Array  \n",
    "unset ex\n",
    "  \n",
    "#Printing all the elements  \n",
    "echo \"${ex[@]}\"  "
   ]
  },
  {
   "cell_type": "code",
   "execution_count": null,
   "id": "a6ee7541",
   "metadata": {},
   "outputs": [],
   "source": []
  }
 ],
 "metadata": {
  "kernelspec": {
   "display_name": "Python 3 (ipykernel)",
   "language": "python",
   "name": "python3"
  },
  "language_info": {
   "codemirror_mode": {
    "name": "ipython",
    "version": 3
   },
   "file_extension": ".py",
   "mimetype": "text/x-python",
   "name": "python",
   "nbconvert_exporter": "python",
   "pygments_lexer": "ipython3",
   "version": "3.10.9"
  }
 },
 "nbformat": 4,
 "nbformat_minor": 5
}
